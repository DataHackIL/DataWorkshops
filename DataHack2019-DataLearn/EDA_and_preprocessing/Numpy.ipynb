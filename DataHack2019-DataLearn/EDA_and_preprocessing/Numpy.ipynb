{
 "cells": [
  {
   "cell_type": "markdown",
   "metadata": {},
   "source": [
    "# Numpy"
   ]
  },
  {
   "cell_type": "code",
   "execution_count": 93,
   "metadata": {},
   "outputs": [],
   "source": [
    "import numpy as np # import convention\n",
    "\n",
    "np.random.seed(1337) # important if you want to reproduce your code exactly and you are using random functionality"
   ]
  },
  {
   "cell_type": "markdown",
   "metadata": {},
   "source": [
    "Numpy is a __fixed-type__ array with advanced mathematical and data manipulation functionality."
   ]
  },
  {
   "cell_type": "code",
   "execution_count": 3,
   "metadata": {},
   "outputs": [
    {
     "data": {
      "text/plain": [
       "array([1, 2, 2, 3], dtype=int64)"
      ]
     },
     "execution_count": 3,
     "metadata": {},
     "output_type": "execute_result"
    }
   ],
   "source": [
    "np.array([1,2,2,3.5], dtype='int64')"
   ]
  },
  {
   "cell_type": "markdown",
   "metadata": {},
   "source": [
    "### How to create a Numpy ndarray? "
   ]
  },
  {
   "cell_type": "markdown",
   "metadata": {},
   "source": [
    "* Create a new array or derive from existing object like python list or python tuple \n",
    "* Load data from a .npy file\n"
   ]
  },
  {
   "cell_type": "code",
   "execution_count": 13,
   "metadata": {},
   "outputs": [
    {
     "name": "stdout",
     "output_type": "stream",
     "text": [
      "we have: array([1, 2, 3, 4]) which from type: <class 'numpy.ndarray'>\n"
     ]
    }
   ],
   "source": [
    "# Derive a numpy array from existing object\n",
    "some_list = [1,2,3,4]\n",
    "\n",
    "new_array = np.array(some_list)\n",
    "print('we have: {} which from type: {}'.format(repr(new_array),type(new_array)))"
   ]
  },
  {
   "cell_type": "code",
   "execution_count": 14,
   "metadata": {},
   "outputs": [
    {
     "name": "stdout",
     "output_type": "stream",
     "text": [
      "we have: array([1, 2, 3, 4]) which from type: <class 'numpy.ndarray'>\n"
     ]
    }
   ],
   "source": [
    "# Load data from a .npy file\n",
    "np.save('numpy_array_file', new_array)\n",
    "loaded_array = np.load('numpy_array_file.npy')\n",
    "\n",
    "print('we have: {} which from type: {}'.format(repr(loaded_array),type(loaded_array)))"
   ]
  },
  {
   "cell_type": "markdown",
   "metadata": {},
   "source": [
    "## Typing"
   ]
  },
  {
   "cell_type": "markdown",
   "metadata": {},
   "source": [
    "Usually in your day to day usage typically you won't mind regard the typing of your ndarrays - that the pythonic way!<BR>Whenever you'll run something in production or execute some job that reach your memory limits - that when you'll start caring about your types.<BR>You can check what is the type of your objects in the array with `.dtype`"
   ]
  },
  {
   "cell_type": "code",
   "execution_count": 23,
   "metadata": {},
   "outputs": [
    {
     "data": {
      "text/plain": [
       "dtype('int32')"
      ]
     },
     "execution_count": 23,
     "metadata": {},
     "output_type": "execute_result"
    }
   ],
   "source": [
    "new_array.dtype"
   ]
  },
  {
   "cell_type": "markdown",
   "metadata": {},
   "source": [
    "You can cast to a different type with `.astype`"
   ]
  },
  {
   "cell_type": "code",
   "execution_count": 31,
   "metadata": {},
   "outputs": [
    {
     "name": "stdout",
     "output_type": "stream",
     "text": [
      "[1 2 3 4]\n",
      "['1' '2' '3' '4']\n",
      "[1. 2. 3. 4.]\n"
     ]
    }
   ],
   "source": [
    "print(new_array)\n",
    "print(new_array.astype('str'))\n",
    "print(new_array.astype('float64'))"
   ]
  },
  {
   "cell_type": "markdown",
   "metadata": {},
   "source": [
    "Pay attention that ndarrays are need to be with a single value type, so it will cast your values to a single type #TODO: rephrase this sentence"
   ]
  },
  {
   "cell_type": "code",
   "execution_count": 35,
   "metadata": {},
   "outputs": [
    {
     "data": {
      "text/plain": [
       "array([1., 2., 3.])"
      ]
     },
     "execution_count": 35,
     "metadata": {},
     "output_type": "execute_result"
    }
   ],
   "source": [
    "np.array([1,2,3.0])"
   ]
  },
  {
   "cell_type": "code",
   "execution_count": 36,
   "metadata": {},
   "outputs": [
    {
     "data": {
      "text/plain": [
       "array(['1', '2', '3'], dtype='<U11')"
      ]
     },
     "execution_count": 36,
     "metadata": {},
     "output_type": "execute_result"
    }
   ],
   "source": [
    "np.array([1,2,'3'])"
   ]
  },
  {
   "cell_type": "code",
   "execution_count": 32,
   "metadata": {},
   "outputs": [
    {
     "data": {
      "text/plain": [
       "array([1, 2.0, {'1': 3}], dtype=object)"
      ]
     },
     "execution_count": 32,
     "metadata": {},
     "output_type": "execute_result"
    }
   ],
   "source": [
    "np.array([1, 2.0, {'1':3}])"
   ]
  },
  {
   "cell_type": "markdown",
   "metadata": {},
   "source": [
    "## Shapes"
   ]
  },
  {
   "cell_type": "markdown",
   "metadata": {},
   "source": [
    "ndarray, as it name suggest, can be in n dimensions. "
   ]
  },
  {
   "cell_type": "code",
   "execution_count": 60,
   "metadata": {},
   "outputs": [
    {
     "name": "stdout",
     "output_type": "stream",
     "text": [
      "4\n"
     ]
    }
   ],
   "source": [
    "array_with_4_dim = np.ones((2,3,2,4))\n",
    "print(array_with_4_dim.ndim)"
   ]
  },
  {
   "cell_type": "markdown",
   "metadata": {},
   "source": [
    "To get a flatten number of elements without manipulate the ndarray itself you can use `array.size`"
   ]
  },
  {
   "cell_type": "code",
   "execution_count": 61,
   "metadata": {},
   "outputs": [
    {
     "data": {
      "text/plain": [
       "48"
      ]
     },
     "execution_count": 61,
     "metadata": {},
     "output_type": "execute_result"
    }
   ],
   "source": [
    "array_with_4_dim.size"
   ]
  },
  {
   "cell_type": "markdown",
   "metadata": {},
   "source": [
    "And we can control the number of dimension as we wish with `array.reshape` - as long as the number of elements is equal"
   ]
  },
  {
   "cell_type": "code",
   "execution_count": 63,
   "metadata": {},
   "outputs": [
    {
     "name": "stdout",
     "output_type": "stream",
     "text": [
      "4\n",
      "48\n"
     ]
    }
   ],
   "source": [
    "array_with_4_dim.reshape(12,4)\n",
    "print(array_with_4_dim.ndim)\n",
    "print(array_with_4_dim.size)"
   ]
  },
  {
   "cell_type": "code",
   "execution_count": 64,
   "metadata": {},
   "outputs": [
    {
     "ename": "ValueError",
     "evalue": "cannot reshape array of size 48 into shape (13,1)",
     "output_type": "error",
     "traceback": [
      "\u001b[1;31m---------------------------------------------------------------------------\u001b[0m",
      "\u001b[1;31mValueError\u001b[0m                                Traceback (most recent call last)",
      "\u001b[1;32m<ipython-input-64-f14721612d77>\u001b[0m in \u001b[0;36m<module>\u001b[1;34m\u001b[0m\n\u001b[1;32m----> 1\u001b[1;33m \u001b[0marray_with_4_dim\u001b[0m\u001b[1;33m.\u001b[0m\u001b[0mreshape\u001b[0m\u001b[1;33m(\u001b[0m\u001b[1;36m13\u001b[0m\u001b[1;33m,\u001b[0m\u001b[1;36m1\u001b[0m\u001b[1;33m)\u001b[0m\u001b[1;33m\u001b[0m\u001b[0m\n\u001b[0m",
      "\u001b[1;31mValueError\u001b[0m: cannot reshape array of size 48 into shape (13,1)"
     ]
    }
   ],
   "source": [
    "array_with_4_dim.reshape(13,1)"
   ]
  },
  {
   "cell_type": "markdown",
   "metadata": {},
   "source": [
    "# Indexing & Slicing\n",
    "\n",
    "if you are already familiar with python its pretty much the same as the indexing and slicing with lists just need to remember we have here multiple dimensions from time to time"
   ]
  },
  {
   "cell_type": "code",
   "execution_count": 68,
   "metadata": {},
   "outputs": [
    {
     "name": "stdout",
     "output_type": "stream",
     "text": [
      "[[[ 0.52938652 -0.83994697  0.32864716 ...  0.3762326   0.156106\n",
      "   -0.97743426]\n",
      "  [-0.6594944  -0.45703816 -0.6702949  ...  0.53688367 -0.6240286\n",
      "   -0.51758273]\n",
      "  [-1.73807483  2.61795864  1.17218913 ... -0.23255257 -0.40140325\n",
      "    1.6841075 ]\n",
      "  ...\n",
      "  [-1.19714171  0.0035688   0.60915884 ... -0.61207464 -0.32521271\n",
      "    0.20707459]\n",
      "  [-0.17937436  0.05275047  0.08467558 ...  0.57802976  2.33252905\n",
      "    1.649631  ]\n",
      "  [-0.02209427 -2.11854351 -1.58157123 ...  1.49360365 -0.08060168\n",
      "    0.42669526]]\n",
      "\n",
      " [[-1.16428365  0.12476508  1.47206711 ... -1.26552597 -1.23354345\n",
      "    0.2221427 ]\n",
      "  [-0.77463748  0.01185623  0.2165534  ... -1.37177047  1.25073027\n",
      "    1.45602533]\n",
      "  [ 2.01100922  1.82152192 -0.61011272 ...  0.45057522  0.43022343\n",
      "   -0.76058846]\n",
      "  ...\n",
      "  [-0.24892789  0.96195701 -0.44650901 ...  0.21069819 -0.06369483\n",
      "   -0.50684692]\n",
      "  [-0.06061266 -1.7090016   0.22884191 ...  0.34483726  1.05322149\n",
      "   -0.3856483 ]\n",
      "  [-1.39063151 -0.67441875 -0.73880329 ...  0.19005337  1.57958906\n",
      "    1.92360017]]\n",
      "\n",
      " [[ 0.969041    0.70006101  0.45833118 ...  0.14252749 -1.00694716\n",
      "   -0.32314258]\n",
      "  [-0.88350039 -1.66531788 -0.80062818 ... -1.27299608  1.32959609\n",
      "    0.03563736]\n",
      "  [-0.84056639  1.27557873 -0.47704345 ...  1.41688679 -0.55327394\n",
      "    0.27511268]\n",
      "  ...\n",
      "  [-0.21499761  0.83896304  1.10710994 ... -0.76716182  0.02126649\n",
      "   -0.00527388]\n",
      "  [ 1.81374451 -1.94213743  0.74478223 ...  0.00882508  1.76019838\n",
      "   -0.23388334]\n",
      "  [-1.10895337  1.15730131 -0.55962829 ... -0.01627762 -1.80248433\n",
      "    0.56978399]]\n",
      "\n",
      " ...\n",
      "\n",
      " [[ 2.48269846  1.02529025 -0.60569127 ...  0.36473479 -0.55724972\n",
      "   -1.81867511]\n",
      "  [-0.66240854  1.02945194 -0.40972474 ...  0.20493153  0.8716423\n",
      "   -0.37228501]\n",
      "  [ 0.83003528 -1.2938306   0.81707583 ...  0.01999684 -0.0317914\n",
      "    0.42155832]\n",
      "  ...\n",
      "  [ 0.93521963 -0.61646739  1.19403818 ...  0.90878002  1.98026959\n",
      "   -0.14941345]\n",
      "  [ 0.50647938  0.2769212  -1.40150145 ...  1.02753878 -0.21554805\n",
      "   -0.71014626]\n",
      "  [ 0.93048434  0.56209352 -0.59104982 ...  0.75794391 -1.22211669\n",
      "    0.74946407]]\n",
      "\n",
      " [[-0.36667974 -2.30632413  0.11708425 ...  1.07977213 -1.00619197\n",
      "    0.13121111]\n",
      "  [ 0.1752731  -0.0695102   1.52322863 ... -0.49291839  1.11021455\n",
      "   -3.08416869]\n",
      "  [-0.88881488 -0.52650783 -1.80635708 ...  0.86142563 -0.17094033\n",
      "   -0.53612053]\n",
      "  ...\n",
      "  [-0.22070537  0.47067671  0.40792847 ... -0.34763146  0.07014195\n",
      "   -0.58167645]\n",
      "  [-0.29342479  0.84624644  0.8445522  ... -0.94850313 -0.27473813\n",
      "   -0.30120101]\n",
      "  [ 0.09812059  0.1158314   2.56219638 ...  0.682353   -0.85740148\n",
      "    0.21459717]]\n",
      "\n",
      " [[-0.21770779 -0.45108759  0.39298595 ... -0.09919971  0.51552414\n",
      "   -0.34867681]\n",
      "  [ 0.88872348  0.15519697  0.21757861 ...  0.58530786  0.83583467\n",
      "   -0.29512732]\n",
      "  [ 0.50677034  0.56942919  1.64046663 ...  1.23849349  2.16480551\n",
      "   -0.68904389]\n",
      "  ...\n",
      "  [ 1.70802183 -0.73686451  0.18571138 ... -0.9322033   1.03132488\n",
      "    0.62016178]\n",
      "  [-1.06827457  1.26862313  0.71544242 ... -0.34003588 -1.23574295\n",
      "    0.17389608]\n",
      "  [-0.5178616   0.61145148 -0.44953571 ... -1.28011901 -0.45363528\n",
      "    0.36534336]]]\n"
     ]
    }
   ],
   "source": [
    "array = np.random.randn(100,20,30)\n",
    "print(array)"
   ]
  },
  {
   "cell_type": "code",
   "execution_count": 73,
   "metadata": {},
   "outputs": [
    {
     "name": "stdout",
     "output_type": "stream",
     "text": [
      "(20, 30)\n"
     ]
    }
   ],
   "source": [
    "array[0].shape"
   ]
  },
  {
   "cell_type": "code",
   "execution_count": 74,
   "metadata": {},
   "outputs": [
    {
     "data": {
      "text/plain": [
       "(30,)"
      ]
     },
     "execution_count": 74,
     "metadata": {},
     "output_type": "execute_result"
    }
   ],
   "source": [
    "array[0][0].shape"
   ]
  },
  {
   "cell_type": "code",
   "execution_count": 75,
   "metadata": {},
   "outputs": [
    {
     "data": {
      "text/plain": [
       "0.5293865236292322"
      ]
     },
     "execution_count": 75,
     "metadata": {},
     "output_type": "execute_result"
    }
   ],
   "source": [
    "array[0][0][0]"
   ]
  },
  {
   "cell_type": "code",
   "execution_count": 77,
   "metadata": {},
   "outputs": [
    {
     "data": {
      "text/plain": [
       "-0.4570381585666605"
      ]
     },
     "execution_count": 77,
     "metadata": {},
     "output_type": "execute_result"
    }
   ],
   "source": [
    "array[0][1][1]"
   ]
  },
  {
   "cell_type": "code",
   "execution_count": 78,
   "metadata": {},
   "outputs": [
    {
     "data": {
      "text/plain": [
       "array([-0.6702949 ,  0.01303136,  1.28011943])"
      ]
     },
     "execution_count": 78,
     "metadata": {},
     "output_type": "execute_result"
    }
   ],
   "source": [
    "array[0][1][2:5]"
   ]
  },
  {
   "cell_type": "code",
   "execution_count": 81,
   "metadata": {},
   "outputs": [
    {
     "data": {
      "text/plain": [
       "array([[-0.71980177,  0.49225744, -0.65103468,  1.10912565, -1.20717885,\n",
       "        -1.02946936, -0.20443938, -0.05153465,  0.15509645,  0.6151977 ,\n",
       "        -0.63514605, -0.39025962, -0.63929214, -0.91052064,  1.84468561,\n",
       "         0.5271816 ,  0.07433414, -2.75640775,  0.12227863, -0.55646033,\n",
       "         1.46240417, -2.34231875, -0.47400237, -2.28288816, -1.38167892,\n",
       "        -0.11479028, -0.27891198, -0.16512914,  0.07448304, -0.68718957],\n",
       "       [-0.84895969,  0.0148896 ,  0.6619462 ,  0.22310783, -0.86563915,\n",
       "         1.93451475, -0.36313688, -0.2933794 ,  0.88160805, -1.58928198,\n",
       "         0.47021477,  0.87359654, -0.82437938, -0.21305495, -0.10447653,\n",
       "        -0.0891155 ,  0.68734312,  0.35791004, -0.85589621,  1.27919389,\n",
       "        -1.09601333,  1.27554935, -0.02915743,  0.18691832, -0.55739567,\n",
       "        -0.98065161,  0.26945734, -0.76153821,  0.37863944,  0.12952512]])"
      ]
     },
     "execution_count": 81,
     "metadata": {},
     "output_type": "execute_result"
    }
   ],
   "source": [
    "array[0][3:7][2:5]"
   ]
  },
  {
   "cell_type": "code",
   "execution_count": 83,
   "metadata": {},
   "outputs": [
    {
     "data": {
      "text/plain": [
       "array([[-0.51418918, -0.73175332, -0.81510193],\n",
       "       [ 1.69581392,  0.70176038, -0.23375956],\n",
       "       [-0.65103468,  1.10912565, -1.20717885],\n",
       "       [ 0.6619462 ,  0.22310783, -0.86563915]])"
      ]
     },
     "execution_count": 83,
     "metadata": {},
     "output_type": "execute_result"
    }
   ],
   "source": [
    "array[0, 3:7, 2:5]"
   ]
  },
  {
   "cell_type": "markdown",
   "metadata": {},
   "source": [
    "You need to understand exactly what you want to slice"
   ]
  },
  {
   "cell_type": "markdown",
   "metadata": {},
   "source": [
    "# Statistical methods"
   ]
  },
  {
   "cell_type": "markdown",
   "metadata": {},
   "source": [
    "You can extract various of statistical information about your arrays with built-in functions:"
   ]
  },
  {
   "cell_type": "code",
   "execution_count": 86,
   "metadata": {},
   "outputs": [
    {
     "name": "stdout",
     "output_type": "stream",
     "text": [
      "[[-1.06928945  1.18953254  0.01661448 -1.27747716 -0.71888577  0.69121574\n",
      "   2.84230309 -1.87252539 -0.05785404 -0.27492886]\n",
      " [-0.44030645  0.6921194   2.12919315  0.87100109 -1.05207292  0.01069154\n",
      "  -1.32661083 -1.67618595 -0.69389513 -1.48547955]\n",
      " [ 0.30601961  0.27577203  2.05613796 -0.26384822  0.19154534 -1.18722174\n",
      "   1.31870991 -0.45889699  1.05948954  0.63837986]\n",
      " [-1.03047412 -0.22327308  0.35544532 -0.85283153 -1.48655106  1.20254967\n",
      "  -0.99943595 -0.7517425  -2.00034688  0.87740231]\n",
      " [ 0.73681765  2.20626222  1.5098606  -1.49823601  2.50956105  0.52009767\n",
      "  -2.59871962  0.08338329 -0.43204939  0.39063443]\n",
      " [-0.69621742 -0.46421735  1.26452802 -2.0950217  -0.85515019 -0.72727013\n",
      "  -0.00367092 -2.06689706 -0.19161956 -0.04291323]\n",
      " [ 0.53577508 -1.10685103 -0.53492738 -0.12237227 -0.01074414 -0.09124817\n",
      "  -0.12477244 -0.89283073 -0.35234412  0.6290123 ]\n",
      " [ 0.22089461 -0.30696394 -0.66953404 -0.02152393  0.63247217  0.72829756\n",
      "  -0.29250438 -0.66768777 -0.06055272  1.39381033]\n",
      " [ 0.84284213  2.56718389 -0.43036983 -0.61597889  0.59503848  0.09519672\n",
      "   1.32437812 -0.44816816  0.43678131  0.2002308 ]\n",
      " [ 0.07588189  1.12921425  0.37857061 -1.38507136 -0.78729133  0.53301734\n",
      "   2.03625723  0.32091557 -0.02487446 -0.20496228]]\n"
     ]
    }
   ],
   "source": [
    "x = np.random.randn(10,10)\n",
    "print(x)"
   ]
  },
  {
   "cell_type": "code",
   "execution_count": 87,
   "metadata": {},
   "outputs": [
    {
     "data": {
      "text/plain": [
       "-1.4026516291894564"
      ]
     },
     "execution_count": 87,
     "metadata": {},
     "output_type": "execute_result"
    }
   ],
   "source": [
    "x.sum()"
   ]
  },
  {
   "cell_type": "code",
   "execution_count": 88,
   "metadata": {},
   "outputs": [
    {
     "data": {
      "text/plain": [
       "array([-0.53129482, -2.97154565,  3.93608731, -4.90925783,  3.42761188,\n",
       "       -5.87844954, -2.0713029 ,  0.9567079 ,  4.56713456,  2.07165746])"
      ]
     },
     "execution_count": 88,
     "metadata": {},
     "output_type": "execute_result"
    }
   ],
   "source": [
    "x.sum(axis=1)"
   ]
  },
  {
   "cell_type": "code",
   "execution_count": 90,
   "metadata": {},
   "outputs": [
    {
     "data": {
      "text/plain": [
       "-0.531294822333365"
      ]
     },
     "execution_count": 90,
     "metadata": {},
     "output_type": "execute_result"
    }
   ],
   "source": [
    "x[0 ,:].sum()"
   ]
  },
  {
   "cell_type": "code",
   "execution_count": 91,
   "metadata": {},
   "outputs": [
    {
     "data": {
      "text/plain": [
       "1.144775233558038"
      ]
     },
     "execution_count": 91,
     "metadata": {},
     "output_type": "execute_result"
    }
   ],
   "source": [
    "x.var()"
   ]
  },
  {
   "cell_type": "code",
   "execution_count": 92,
   "metadata": {},
   "outputs": [
    {
     "data": {
      "text/plain": [
       "2.8423030862011096"
      ]
     },
     "execution_count": 92,
     "metadata": {},
     "output_type": "execute_result"
    }
   ],
   "source": [
    "x.max()"
   ]
  },
  {
   "cell_type": "markdown",
   "metadata": {},
   "source": [
    "There are other, you can see the list [here](https://docs.scipy.org/doc/numpy/reference/arrays.ndarray.html#calculation)"
   ]
  },
  {
   "cell_type": "markdown",
   "metadata": {},
   "source": [
    "# Broadcasting"
   ]
  },
  {
   "cell_type": "markdown",
   "metadata": {},
   "source": [
    "In general, python loops are abomination performance wise. To handle that, Numpy is introduced the broadcasting functionality."
   ]
  },
  {
   "cell_type": "code",
   "execution_count": 49,
   "metadata": {},
   "outputs": [
    {
     "name": "stdout",
     "output_type": "stream",
     "text": [
      "[[0. 0. 0. 0. 0. 0. 0. 0. 0. 0. 0. 0. 0. 0. 0. 0. 0. 0. 0. 0.]\n",
      " [0. 0. 0. 0. 0. 0. 0. 0. 0. 0. 0. 0. 0. 0. 0. 0. 0. 0. 0. 0.]\n",
      " [0. 0. 0. 0. 0. 0. 0. 0. 0. 0. 0. 0. 0. 0. 0. 0. 0. 0. 0. 0.]\n",
      " [0. 0. 0. 0. 0. 0. 0. 0. 0. 0. 0. 0. 0. 0. 0. 0. 0. 0. 0. 0.]\n",
      " [0. 0. 0. 0. 0. 0. 0. 0. 0. 0. 0. 0. 0. 0. 0. 0. 0. 0. 0. 0.]\n",
      " [0. 0. 0. 0. 0. 0. 0. 0. 0. 0. 0. 0. 0. 0. 0. 0. 0. 0. 0. 0.]\n",
      " [0. 0. 0. 0. 0. 0. 0. 0. 0. 0. 0. 0. 0. 0. 0. 0. 0. 0. 0. 0.]\n",
      " [0. 0. 0. 0. 0. 0. 0. 0. 0. 0. 0. 0. 0. 0. 0. 0. 0. 0. 0. 0.]\n",
      " [0. 0. 0. 0. 0. 0. 0. 0. 0. 0. 0. 0. 0. 0. 0. 0. 0. 0. 0. 0.]\n",
      " [0. 0. 0. 0. 0. 0. 0. 0. 0. 0. 0. 0. 0. 0. 0. 0. 0. 0. 0. 0.]\n",
      " [0. 0. 0. 0. 0. 0. 0. 0. 0. 0. 0. 0. 0. 0. 0. 0. 0. 0. 0. 0.]\n",
      " [0. 0. 0. 0. 0. 0. 0. 0. 0. 0. 0. 0. 0. 0. 0. 0. 0. 0. 0. 0.]\n",
      " [0. 0. 0. 0. 0. 0. 0. 0. 0. 0. 0. 0. 0. 0. 0. 0. 0. 0. 0. 0.]\n",
      " [0. 0. 0. 0. 0. 0. 0. 0. 0. 0. 0. 0. 0. 0. 0. 0. 0. 0. 0. 0.]\n",
      " [0. 0. 0. 0. 0. 0. 0. 0. 0. 0. 0. 0. 0. 0. 0. 0. 0. 0. 0. 0.]\n",
      " [0. 0. 0. 0. 0. 0. 0. 0. 0. 0. 0. 0. 0. 0. 0. 0. 0. 0. 0. 0.]\n",
      " [0. 0. 0. 0. 0. 0. 0. 0. 0. 0. 0. 0. 0. 0. 0. 0. 0. 0. 0. 0.]\n",
      " [0. 0. 0. 0. 0. 0. 0. 0. 0. 0. 0. 0. 0. 0. 0. 0. 0. 0. 0. 0.]\n",
      " [0. 0. 0. 0. 0. 0. 0. 0. 0. 0. 0. 0. 0. 0. 0. 0. 0. 0. 0. 0.]\n",
      " [0. 0. 0. 0. 0. 0. 0. 0. 0. 0. 0. 0. 0. 0. 0. 0. 0. 0. 0. 0.]]\n"
     ]
    }
   ],
   "source": [
    "zeros = np.zeros((20,20))\n",
    "print(zeros)"
   ]
  },
  {
   "cell_type": "markdown",
   "metadata": {},
   "source": [
    "Now lets say we want to change value to `2` in the last column. in an naive way we can:"
   ]
  },
  {
   "cell_type": "code",
   "execution_count": 50,
   "metadata": {},
   "outputs": [
    {
     "name": "stdout",
     "output_type": "stream",
     "text": [
      "28.6 µs ± 5.35 µs per loop (mean ± std. dev. of 7 runs, 10000 loops each)\n"
     ]
    }
   ],
   "source": [
    "%%timeit\n",
    "for i in range(zeros.shape[0]):\n",
    "    zeros[i][-1] + 2\n",
    "    "
   ]
  },
  {
   "cell_type": "code",
   "execution_count": 51,
   "metadata": {},
   "outputs": [],
   "source": [
    "change_to_2 = np.zeros(zeros.shape[1])\n",
    "change_to_2[-1] = 2"
   ]
  },
  {
   "cell_type": "code",
   "execution_count": 52,
   "metadata": {},
   "outputs": [
    {
     "name": "stdout",
     "output_type": "stream",
     "text": [
      "[0. 0. 0. 0. 0. 0. 0. 0. 0. 0. 0. 0. 0. 0. 0. 0. 0. 0. 0. 2.]\n"
     ]
    }
   ],
   "source": [
    "print(change_to_2)"
   ]
  },
  {
   "cell_type": "code",
   "execution_count": 53,
   "metadata": {},
   "outputs": [
    {
     "name": "stdout",
     "output_type": "stream",
     "text": [
      "4.85 µs ± 440 ns per loop (mean ± std. dev. of 7 runs, 100000 loops each)\n"
     ]
    }
   ],
   "source": [
    "%%timeit\n",
    "zeros + change_to_2\n",
    "    "
   ]
  },
  {
   "cell_type": "markdown",
   "metadata": {},
   "source": [
    "Here you can read about the [rules of broadcasting](https://docs.scipy.org/doc/numpy/reference/ufuncs.html#broadcasting)"
   ]
  },
  {
   "cell_type": "markdown",
   "metadata": {},
   "source": [
    "# Boolean filtering \n",
    "\n",
    "We can use filtering to try and ask about our arrays ( without loops! )"
   ]
  },
  {
   "cell_type": "code",
   "execution_count": 95,
   "metadata": {},
   "outputs": [],
   "source": [
    "x = np.random.randn(5, 5)"
   ]
  },
  {
   "cell_type": "code",
   "execution_count": 98,
   "metadata": {},
   "outputs": [
    {
     "data": {
      "text/plain": [
       "array([ True,  True, False,  True,  True])"
      ]
     },
     "execution_count": 98,
     "metadata": {},
     "output_type": "execute_result"
    }
   ],
   "source": [
    "x[0] > x[0].mean()"
   ]
  },
  {
   "cell_type": "code",
   "execution_count": 99,
   "metadata": {},
   "outputs": [
    {
     "data": {
      "text/plain": [
       "array([[ True,  True, False, False,  True],\n",
       "       [ True, False,  True, False,  True],\n",
       "       [False,  True,  True, False,  True],\n",
       "       [ True, False, False,  True,  True],\n",
       "       [ True,  True, False,  True, False]])"
      ]
     },
     "execution_count": 99,
     "metadata": {},
     "output_type": "execute_result"
    }
   ],
   "source": [
    "x > x.mean()"
   ]
  },
  {
   "cell_type": "code",
   "execution_count": 100,
   "metadata": {},
   "outputs": [
    {
     "data": {
      "text/plain": [
       "(array([0, 1, 3, 4], dtype=int64),)"
      ]
     },
     "execution_count": 100,
     "metadata": {},
     "output_type": "execute_result"
    }
   ],
   "source": [
    "np.where(x[0] > x[0].mean())"
   ]
  },
  {
   "cell_type": "code",
   "execution_count": 96,
   "metadata": {},
   "outputs": [
    {
     "data": {
      "text/plain": [
       "(array([0, 0, 0, 1, 1, 1, 2, 2, 2, 3, 3, 3, 4, 4, 4], dtype=int64),\n",
       " array([0, 1, 4, 0, 2, 4, 1, 2, 4, 0, 3, 4, 0, 1, 3], dtype=int64))"
      ]
     },
     "execution_count": 96,
     "metadata": {},
     "output_type": "execute_result"
    }
   ],
   "source": [
    "np.where(x > x.mean())"
   ]
  },
  {
   "cell_type": "markdown",
   "metadata": {},
   "source": [
    "# Usefull functionality "
   ]
  },
  {
   "cell_type": "code",
   "execution_count": 103,
   "metadata": {},
   "outputs": [
    {
     "data": {
      "text/plain": [
       "23"
      ]
     },
     "execution_count": 103,
     "metadata": {},
     "output_type": "execute_result"
    }
   ],
   "source": [
    "np.count_nonzero(np.where(x > x.mean()))"
   ]
  },
  {
   "cell_type": "code",
   "execution_count": 105,
   "metadata": {},
   "outputs": [
    {
     "data": {
      "text/plain": [
       "<function numpy.hstack(tup)>"
      ]
     },
     "execution_count": 105,
     "metadata": {},
     "output_type": "execute_result"
    }
   ],
   "source": [
    "np.concatenate\n",
    "np.vstack\n",
    "np.hstack"
   ]
  },
  {
   "cell_type": "code",
   "execution_count": null,
   "metadata": {},
   "outputs": [],
   "source": [
    "np.sort\n",
    "np.argsort"
   ]
  },
  {
   "cell_type": "markdown",
   "metadata": {},
   "source": [
    "Of course we only scratched the surface but that is enough for now :) "
   ]
  }
 ],
 "metadata": {
  "kernelspec": {
   "display_name": "Python 3",
   "language": "python",
   "name": "python3"
  },
  "language_info": {
   "codemirror_mode": {
    "name": "ipython",
    "version": 3
   },
   "file_extension": ".py",
   "mimetype": "text/x-python",
   "name": "python",
   "nbconvert_exporter": "python",
   "pygments_lexer": "ipython3",
   "version": "3.7.0"
  }
 },
 "nbformat": 4,
 "nbformat_minor": 2
}
