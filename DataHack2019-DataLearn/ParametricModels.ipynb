{
 "cells": [
  {
   "cell_type": "code",
   "execution_count": 1,
   "metadata": {},
   "outputs": [
    {
     "name": "stdout",
     "output_type": "stream",
     "text": [
      "Requirement already satisfied: plotly_express in /Users/dana.k/datahackpython3env/lib/python3.7/site-packages (0.4.1)\n",
      "Requirement already satisfied: plotly>=4.1.0 in /Users/dana.k/datahackpython3env/lib/python3.7/site-packages (from plotly_express) (4.1.0)\n",
      "Requirement already satisfied: patsy>=0.5 in /Users/dana.k/datahackpython3env/lib/python3.7/site-packages (from plotly_express) (0.5.1)\n",
      "Requirement already satisfied: scipy>=0.18 in /Users/dana.k/datahackpython3env/lib/python3.7/site-packages (from plotly_express) (1.3.1)\n",
      "Requirement already satisfied: numpy>=1.11 in /Users/dana.k/datahackpython3env/lib/python3.7/site-packages (from plotly_express) (1.17.0)\n",
      "Requirement already satisfied: statsmodels>=0.9.0 in /Users/dana.k/datahackpython3env/lib/python3.7/site-packages (from plotly_express) (0.10.1)\n",
      "Requirement already satisfied: pandas>=0.20.0 in /Users/dana.k/datahackpython3env/lib/python3.7/site-packages (from plotly_express) (0.25.1)\n",
      "Requirement already satisfied: retrying>=1.3.3 in /Users/dana.k/datahackpython3env/lib/python3.7/site-packages (from plotly>=4.1.0->plotly_express) (1.3.3)\n",
      "Requirement already satisfied: six in /Users/dana.k/datahackpython3env/lib/python3.7/site-packages (from plotly>=4.1.0->plotly_express) (1.12.0)\n",
      "Requirement already satisfied: pytz>=2017.2 in /Users/dana.k/datahackpython3env/lib/python3.7/site-packages (from pandas>=0.20.0->plotly_express) (2019.2)\n",
      "Requirement already satisfied: python-dateutil>=2.6.1 in /Users/dana.k/datahackpython3env/lib/python3.7/site-packages (from pandas>=0.20.0->plotly_express) (2.8.0)\n",
      "\u001b[33mWARNING: You are using pip version 19.2.2, however version 19.2.3 is available.\n",
      "You should consider upgrading via the 'pip install --upgrade pip' command.\u001b[0m\n"
     ]
    }
   ],
   "source": [
    "## (when using google colab)\n",
    "! pip install plotly_express"
   ]
  },
  {
   "cell_type": "code",
   "execution_count": 5,
   "metadata": {},
   "outputs": [],
   "source": [
    "## general\n",
    "import os \n",
    "import joblib\n",
    "import requests\n",
    "from google_drive_downloader import GoogleDriveDownloader as gdd\n",
    "\n",
    "## Data manipulation\n",
    "import pandas as pd\n",
    "import numpy as np\n",
    "\n",
    "## Modeling\n",
    "from sklearn.model_selection import train_test_split\n",
    "from sklearn.model_selection import cross_val_score\n",
    "from sklearn.metrics import accuracy_score, precision_score, recall_score, f1_score\n",
    "from sklearn.linear_model import LogisticRegression, LogisticRegressionCV\n",
    "from sklearn import preprocessing\n",
    "\n",
    "## visuatlization\n",
    "import plotly \n",
    "import plotly.express as px\n",
    "import plotly.graph_objects as go\n"
   ]
  },
  {
   "cell_type": "code",
   "execution_count": 6,
   "metadata": {
    "scrolled": true
   },
   "outputs": [],
   "source": [
    "## print evaluation metrics\n",
    "def calc_metrics(y_true, pred):\n",
    "    print('f1_score:', f1_score(y_true, pred, average='binary'))\n",
    "    print('recall:', recall_score(y_true, pred, average='binary'))\n",
    "    print('precision:', precision_score(y_true, pred, average='binary'))\n",
    "    print('accuracy:', accuracy_score(y_true, pred))"
   ]
  },
  {
   "cell_type": "code",
   "execution_count": 9,
   "metadata": {},
   "outputs": [
    {
     "name": "stdout",
     "output_type": "stream",
     "text": [
      "Downloading 1bUltH9pa-2Zb2PG49OTOpZYDPZMKx98z into /Users/dana.k/Desktop/backupPX/personal/Conferences/DataHack2019/DataWorkshops/DataHack2019-DataLearn/Data/preprocessed_data_200K.jblib... Done.\n"
     ]
    }
   ],
   "source": [
    "## download a sample of preprocessed data from the workshop\n",
    "gdd.download_file_from_google_drive(file_id = '1bUltH9pa-2Zb2PG49OTOpZYDPZMKx98z',\n",
    "                                    dest_path = os.path.join(os.getcwd(), 'Data','preprocessed_data_200K.jblib'),\n",
    "                                    overwrite = True)"
   ]
  },
  {
   "cell_type": "code",
   "execution_count": 11,
   "metadata": {},
   "outputs": [
    {
     "data": {
      "text/html": [
       "<div>\n",
       "<style scoped>\n",
       "    .dataframe tbody tr th:only-of-type {\n",
       "        vertical-align: middle;\n",
       "    }\n",
       "\n",
       "    .dataframe tbody tr th {\n",
       "        vertical-align: top;\n",
       "    }\n",
       "\n",
       "    .dataframe thead th {\n",
       "        text-align: right;\n",
       "    }\n",
       "</style>\n",
       "<table border=\"1\" class=\"dataframe\">\n",
       "  <thead>\n",
       "    <tr style=\"text-align: right;\">\n",
       "      <th></th>\n",
       "      <th>index</th>\n",
       "      <th>collection_21_days</th>\n",
       "      <th>max_team_size</th>\n",
       "      <th>min_team_size</th>\n",
       "      <th>email</th>\n",
       "      <th>time_diff_x</th>\n",
       "      <th>time_diff_y</th>\n",
       "      <th>created_trial_delta</th>\n",
       "      <th>x0_AD</th>\n",
       "      <th>x0_AE</th>\n",
       "      <th>...</th>\n",
       "      <th>x6_51-100</th>\n",
       "      <th>x6_6-10</th>\n",
       "      <th>x6_8</th>\n",
       "      <th>x6_Apenas eu</th>\n",
       "      <th>x6_MISSING</th>\n",
       "      <th>x6_Moi uniquement</th>\n",
       "      <th>x6_Nur ich</th>\n",
       "      <th>x6_Solo yo</th>\n",
       "      <th>paying</th>\n",
       "      <th>lead_score</th>\n",
       "    </tr>\n",
       "  </thead>\n",
       "  <tbody>\n",
       "    <tr>\n",
       "      <td>0</td>\n",
       "      <td>1350087</td>\n",
       "      <td>0.0</td>\n",
       "      <td>17.585222</td>\n",
       "      <td>2.0</td>\n",
       "      <td>0.0</td>\n",
       "      <td>8.0</td>\n",
       "      <td>1.0</td>\n",
       "      <td>0.0</td>\n",
       "      <td>0.0</td>\n",
       "      <td>0.0</td>\n",
       "      <td>...</td>\n",
       "      <td>0.0</td>\n",
       "      <td>0.0</td>\n",
       "      <td>0.0</td>\n",
       "      <td>0.0</td>\n",
       "      <td>1.0</td>\n",
       "      <td>0.0</td>\n",
       "      <td>0.0</td>\n",
       "      <td>0.0</td>\n",
       "      <td>0.0</td>\n",
       "      <td>0.0</td>\n",
       "    </tr>\n",
       "    <tr>\n",
       "      <td>1</td>\n",
       "      <td>1098863</td>\n",
       "      <td>0.0</td>\n",
       "      <td>10.000000</td>\n",
       "      <td>6.0</td>\n",
       "      <td>0.0</td>\n",
       "      <td>-3.0</td>\n",
       "      <td>1.0</td>\n",
       "      <td>0.0</td>\n",
       "      <td>0.0</td>\n",
       "      <td>0.0</td>\n",
       "      <td>...</td>\n",
       "      <td>0.0</td>\n",
       "      <td>1.0</td>\n",
       "      <td>0.0</td>\n",
       "      <td>0.0</td>\n",
       "      <td>0.0</td>\n",
       "      <td>0.0</td>\n",
       "      <td>0.0</td>\n",
       "      <td>0.0</td>\n",
       "      <td>0.0</td>\n",
       "      <td>0.0</td>\n",
       "    </tr>\n",
       "    <tr>\n",
       "      <td>2</td>\n",
       "      <td>413326</td>\n",
       "      <td>0.0</td>\n",
       "      <td>1.000000</td>\n",
       "      <td>1.0</td>\n",
       "      <td>0.0</td>\n",
       "      <td>1.0</td>\n",
       "      <td>1.0</td>\n",
       "      <td>23.0</td>\n",
       "      <td>0.0</td>\n",
       "      <td>0.0</td>\n",
       "      <td>...</td>\n",
       "      <td>0.0</td>\n",
       "      <td>0.0</td>\n",
       "      <td>0.0</td>\n",
       "      <td>0.0</td>\n",
       "      <td>1.0</td>\n",
       "      <td>0.0</td>\n",
       "      <td>0.0</td>\n",
       "      <td>0.0</td>\n",
       "      <td>0.0</td>\n",
       "      <td>0.0</td>\n",
       "    </tr>\n",
       "    <tr>\n",
       "      <td>3</td>\n",
       "      <td>631687</td>\n",
       "      <td>0.0</td>\n",
       "      <td>1.000000</td>\n",
       "      <td>1.0</td>\n",
       "      <td>1.0</td>\n",
       "      <td>-3.0</td>\n",
       "      <td>1.0</td>\n",
       "      <td>0.0</td>\n",
       "      <td>0.0</td>\n",
       "      <td>0.0</td>\n",
       "      <td>...</td>\n",
       "      <td>0.0</td>\n",
       "      <td>0.0</td>\n",
       "      <td>0.0</td>\n",
       "      <td>0.0</td>\n",
       "      <td>0.0</td>\n",
       "      <td>0.0</td>\n",
       "      <td>0.0</td>\n",
       "      <td>0.0</td>\n",
       "      <td>0.0</td>\n",
       "      <td>0.0</td>\n",
       "    </tr>\n",
       "    <tr>\n",
       "      <td>4</td>\n",
       "      <td>214929</td>\n",
       "      <td>0.0</td>\n",
       "      <td>1.000000</td>\n",
       "      <td>1.0</td>\n",
       "      <td>0.0</td>\n",
       "      <td>0.0</td>\n",
       "      <td>1.0</td>\n",
       "      <td>0.0</td>\n",
       "      <td>0.0</td>\n",
       "      <td>0.0</td>\n",
       "      <td>...</td>\n",
       "      <td>0.0</td>\n",
       "      <td>0.0</td>\n",
       "      <td>0.0</td>\n",
       "      <td>0.0</td>\n",
       "      <td>1.0</td>\n",
       "      <td>0.0</td>\n",
       "      <td>0.0</td>\n",
       "      <td>0.0</td>\n",
       "      <td>0.0</td>\n",
       "      <td>0.0</td>\n",
       "    </tr>\n",
       "  </tbody>\n",
       "</table>\n",
       "<p>5 rows × 331 columns</p>\n",
       "</div>"
      ],
      "text/plain": [
       "     index  collection_21_days  max_team_size  min_team_size  email  \\\n",
       "0  1350087                 0.0      17.585222            2.0    0.0   \n",
       "1  1098863                 0.0      10.000000            6.0    0.0   \n",
       "2   413326                 0.0       1.000000            1.0    0.0   \n",
       "3   631687                 0.0       1.000000            1.0    1.0   \n",
       "4   214929                 0.0       1.000000            1.0    0.0   \n",
       "\n",
       "   time_diff_x  time_diff_y  created_trial_delta  x0_AD  x0_AE  ...  \\\n",
       "0          8.0          1.0                  0.0    0.0    0.0  ...   \n",
       "1         -3.0          1.0                  0.0    0.0    0.0  ...   \n",
       "2          1.0          1.0                 23.0    0.0    0.0  ...   \n",
       "3         -3.0          1.0                  0.0    0.0    0.0  ...   \n",
       "4          0.0          1.0                  0.0    0.0    0.0  ...   \n",
       "\n",
       "   x6_51-100  x6_6-10  x6_8  x6_Apenas eu  x6_MISSING  x6_Moi uniquement  \\\n",
       "0        0.0      0.0   0.0           0.0         1.0                0.0   \n",
       "1        0.0      1.0   0.0           0.0         0.0                0.0   \n",
       "2        0.0      0.0   0.0           0.0         1.0                0.0   \n",
       "3        0.0      0.0   0.0           0.0         0.0                0.0   \n",
       "4        0.0      0.0   0.0           0.0         1.0                0.0   \n",
       "\n",
       "   x6_Nur ich  x6_Solo yo  paying  lead_score  \n",
       "0         0.0         0.0     0.0         0.0  \n",
       "1         0.0         0.0     0.0         0.0  \n",
       "2         0.0         0.0     0.0         0.0  \n",
       "3         0.0         0.0     0.0         0.0  \n",
       "4         0.0         0.0     0.0         0.0  \n",
       "\n",
       "[5 rows x 331 columns]"
      ]
     },
     "execution_count": 11,
     "metadata": {},
     "output_type": "execute_result"
    }
   ],
   "source": [
    "## read the preprocessed data\n",
    "data = joblib.load(os.path.join(os.getcwd(), 'Data','preprocessed_data_200K.jblib'))\n",
    "data.head()"
   ]
  },
  {
   "cell_type": "markdown",
   "metadata": {},
   "source": [
    "# Split to train test"
   ]
  },
  {
   "cell_type": "code",
   "execution_count": 5,
   "metadata": {},
   "outputs": [],
   "source": [
    "y = data['lead_score']\n",
    "X = data.loc[:,(data.columns != 'lead_score') & (data.columns != 'account_id')]\n",
    "\n",
    "# # Smaller data to work with in the workshop...\n",
    "# max_samples = 10000\n",
    "# X = X[:max_samples]\n",
    "# y = y[:max_samples]"
   ]
  },
  {
   "cell_type": "code",
   "execution_count": 6,
   "metadata": {},
   "outputs": [
    {
     "name": "stdout",
     "output_type": "stream",
     "text": [
      "X_train: (400000, 328)\n",
      "y_train: (400000,)\n",
      "X_test: (100000, 328)\n",
      "y_test: (100000,)\n"
     ]
    }
   ],
   "source": [
    "X_train, X_test, y_train, y_test = train_test_split(X, y, test_size = 0.2, random_state = 1)\n",
    "print('X_train:', X_train.shape)\n",
    "print('y_train:', y_train.shape)\n",
    "print('X_test:', X_test.shape)\n",
    "print('y_test:', y_test.shape)"
   ]
  },
  {
   "cell_type": "code",
   "execution_count": 7,
   "metadata": {
    "scrolled": true
   },
   "outputs": [
    {
     "name": "stdout",
     "output_type": "stream",
     "text": [
      "0.025546359823195808 , 0.02455867135231499\n"
     ]
    }
   ],
   "source": [
    "## check if classes ratio is the same in train and test\n",
    "ratio_train = y_train.sum() / (1-y_train).sum()\n",
    "ratio_test = y_test.sum() / (1-y_test).sum()\n",
    "print(ratio_train, \",\", ratio_test)"
   ]
  },
  {
   "cell_type": "markdown",
   "metadata": {},
   "source": [
    "# Preprocess"
   ]
  },
  {
   "cell_type": "code",
   "execution_count": 8,
   "metadata": {},
   "outputs": [
    {
     "name": "stdout",
     "output_type": "stream",
     "text": [
      "X_train[:10]\n",
      "          collection_21_days  max_team_size  min_team_size     email  \\\n",
      "44177                  48.0      10.000000            6.0  0.333333   \n",
      "42497                   0.0       1.000000            1.0  0.000000   \n",
      "958894                  0.0       5.000000            2.0  0.000000   \n",
      "308439                  0.0      10.000000            6.0  0.000000   \n",
      "812242                  0.0     500.000000          500.0  1.000000   \n",
      "489810                  0.0      17.585222            2.0  0.000000   \n",
      "1242366                 0.0       1.000000            1.0  0.000000   \n",
      "1235501                 0.0      15.000000           11.0  0.000000   \n",
      "1016418                 0.0       1.000000            1.0  0.000000   \n",
      "279336                  0.0       5.000000            2.0  0.000000   \n",
      "\n",
      "         time_diff_x  time_diff_y  x0_AD  x0_AE  x0_AF  x0_AG  ...  x6_500   \\\n",
      "44177       1.000000          1.0    0.0    0.0    0.0    0.0  ...      0.0   \n",
      "42497      -7.000000          1.0    0.0    0.0    0.0    0.0  ...      0.0   \n",
      "958894     -5.000000          1.0    0.0    0.0    0.0    0.0  ...      0.0   \n",
      "308439     10.000000          1.0    0.0    0.0    0.0    0.0  ...      0.0   \n",
      "812242     -1.437861          1.0    0.0    0.0    0.0    0.0  ...      0.0   \n",
      "489810      2.000000          1.0    0.0    0.0    0.0    0.0  ...      0.0   \n",
      "1242366     3.000000          1.0    0.0    0.0    0.0    0.0  ...      0.0   \n",
      "1235501   -10.000000          1.0    0.0    0.0    0.0    0.0  ...      0.0   \n",
      "1016418     1.000000          1.0    0.0    0.0    0.0    0.0  ...      0.0   \n",
      "279336      3.000000          1.0    0.0    0.0    0.0    0.0  ...      0.0   \n",
      "\n",
      "         x6_51-100  x6_6-10  x6_8  x6_Apenas eu  x6_MISSING  \\\n",
      "44177          0.0      1.0   0.0           0.0         0.0   \n",
      "42497          0.0      0.0   0.0           0.0         1.0   \n",
      "958894         0.0      0.0   0.0           0.0         0.0   \n",
      "308439         0.0      1.0   0.0           0.0         0.0   \n",
      "812242         0.0      0.0   0.0           0.0         1.0   \n",
      "489810         0.0      0.0   0.0           0.0         1.0   \n",
      "1242366        0.0      0.0   0.0           0.0         0.0   \n",
      "1235501        0.0      0.0   0.0           0.0         0.0   \n",
      "1016418        0.0      0.0   0.0           0.0         0.0   \n",
      "279336         0.0      0.0   0.0           0.0         0.0   \n",
      "\n",
      "         x6_Moi uniquement  x6_Nur ich  x6_Solo yo  paying  \n",
      "44177                  0.0         0.0         0.0     1.0  \n",
      "42497                  0.0         0.0         0.0     0.0  \n",
      "958894                 0.0         0.0         0.0     0.0  \n",
      "308439                 0.0         0.0         0.0     0.0  \n",
      "812242                 0.0         0.0         0.0     0.0  \n",
      "489810                 0.0         0.0         0.0     0.0  \n",
      "1242366                0.0         0.0         0.0     0.0  \n",
      "1235501                0.0         0.0         0.0     0.0  \n",
      "1016418                0.0         0.0         0.0     0.0  \n",
      "279336                 0.0         0.0         0.0     0.0  \n",
      "\n",
      "[10 rows x 328 columns]\n",
      "X_train_scaled[:10]\n",
      " [[ 4.09343968e-01 -1.17897667e-01 -7.94342100e-02 ... -5.70096977e-03\n",
      "  -2.13355834e-02  6.90546825e+00]\n",
      " [-7.48431180e-02 -2.56523519e-01 -1.78070425e-01 ... -5.70096977e-03\n",
      "  -2.13355834e-02 -1.44812772e-01]\n",
      " [-7.48431180e-02 -1.94912029e-01 -1.58343182e-01 ... -5.70096977e-03\n",
      "  -2.13355834e-02 -1.44812772e-01]\n",
      " ...\n",
      " [-7.48431180e-02 -4.08833051e-02  1.92020052e-02 ... -5.70096977e-03\n",
      "  -2.13355834e-02 -1.44812772e-01]\n",
      " [-7.48431180e-02 -2.56523519e-01 -1.78070425e-01 ... -5.70096977e-03\n",
      "  -2.13355834e-02 -1.44812772e-01]\n",
      " [-7.48431180e-02 -1.94912029e-01 -1.58343182e-01 ... -5.70096977e-03\n",
      "  -2.13355834e-02 -1.44812772e-01]]\n"
     ]
    }
   ],
   "source": [
    "scaler = preprocessing.StandardScaler().fit(X_train)\n",
    "X_train_scaled = scaler.transform(X_train)\n",
    "X_test_scaled = scaler.transform(X_test)\n",
    "print('X_train[:10]\\n', X_train[:10])\n",
    "print('X_train_scaled[:10]\\n', X_train_scaled[:10])"
   ]
  },
  {
   "cell_type": "markdown",
   "metadata": {},
   "source": [
    "# Logistic Regression"
   ]
  },
  {
   "cell_type": "code",
   "execution_count": 9,
   "metadata": {
    "code_folding": []
   },
   "outputs": [
    {
     "data": {
      "text/plain": [
       "LogisticRegression(C=1.0, class_weight='balanced', dual=False,\n",
       "                   fit_intercept=True, intercept_scaling=1, l1_ratio=None,\n",
       "                   max_iter=10000, multi_class='ovr', n_jobs=None, penalty='l2',\n",
       "                   random_state=None, solver='sag', tol=0.0001, verbose=0,\n",
       "                   warm_start=False)"
      ]
     },
     "execution_count": 9,
     "metadata": {},
     "output_type": "execute_result"
    }
   ],
   "source": [
    "clf = LogisticRegression(multi_class='ovr', \n",
    "                         solver='sag', \n",
    "                         max_iter=10000, \n",
    "                         class_weight='balanced')\n",
    "# clf = LogisticRegression(multi_class='ovr', solver='sag', max_iter=10000)\n",
    "# clf = LogisticRegression(multi_class='ovr', solver='liblinear', max_iter=10000)\n",
    "\n",
    "clf.fit(X_train_scaled, y_train)\n"
   ]
  },
  {
   "cell_type": "code",
   "execution_count": 34,
   "metadata": {},
   "outputs": [
    {
     "data": {
      "text/plain": [
       "array([[7.75541760e-01, 2.24458240e-01],\n",
       "       [9.99178897e-01, 8.21103204e-04],\n",
       "       [1.07034136e-01, 8.92965864e-01],\n",
       "       [9.99996186e-01, 3.81431931e-06],\n",
       "       [7.58199333e-01, 2.41800667e-01],\n",
       "       [9.99998826e-01, 1.17398773e-06],\n",
       "       [9.97866706e-01, 2.13329399e-03],\n",
       "       [5.29849676e-01, 4.70150324e-01],\n",
       "       [9.99922302e-01, 7.76976276e-05],\n",
       "       [1.02996069e-05, 9.99989700e-01]])"
      ]
     },
     "execution_count": 34,
     "metadata": {},
     "output_type": "execute_result"
    }
   ],
   "source": [
    "# predict probabilities:\n",
    "proba = clf.predict_proba(X_test_scaled)\n",
    "proba[:10]"
   ]
  },
  {
   "cell_type": "code",
   "execution_count": 35,
   "metadata": {},
   "outputs": [
    {
     "name": "stdout",
     "output_type": "stream",
     "text": [
      "pred\n",
      "======\n",
      " [0. 0. 1. 0. 0. 0. 0. 0. 0. 1.]\n",
      "y_test\n",
      "======\n",
      " 1422448    0.0\n",
      "1294741    0.0\n",
      "475755     0.0\n",
      "1426970    0.0\n",
      "1367808    0.0\n",
      "739182     0.0\n",
      "310128     0.0\n",
      "638220     0.0\n",
      "1093771    0.0\n",
      "151068     0.0\n",
      "Name: lead_score, dtype: float64\n"
     ]
    }
   ],
   "source": [
    "# predict clasees (default decision boundary = 0.5):\n",
    "pred = clf.predict(X_test_scaled)\n",
    "print('pred\\n======\\n', pred[:10])\n",
    "print('y_test\\n======\\n', y_test[:10])"
   ]
  },
  {
   "cell_type": "markdown",
   "metadata": {},
   "source": [
    "## Model evaluation"
   ]
  },
  {
   "cell_type": "code",
   "execution_count": null,
   "metadata": {},
   "outputs": [],
   "source": [
    "calc_metrics(y_test, pred)"
   ]
  },
  {
   "cell_type": "code",
   "execution_count": 37,
   "metadata": {
    "scrolled": true
   },
   "outputs": [
    {
     "name": "stdout",
     "output_type": "stream",
     "text": [
      "f1_score: 0.19382782891174874\n",
      "recall: 0.93717277486911\n",
      "precision: 0.10809178743961352\n",
      "accuracy: 0.813875\n"
     ]
    }
   ],
   "source": [
    "pred_train = clf.predict(X_train_scaled[:10000])\n",
    "calc_metrics(y_train[:10000], pred_train)"
   ]
  },
  {
   "cell_type": "markdown",
   "metadata": {},
   "source": [
    "## Regularization"
   ]
  },
  {
   "cell_type": "code",
   "execution_count": null,
   "metadata": {},
   "outputs": [],
   "source": [
    "# We want to enforce a sparse weight vector. \n",
    "clf_sparse = LogisticRegression(multi_class='ovr', \n",
    "                                solver='saga', \n",
    "                                penalty='l1', \n",
    "                                max_iter=1000, \n",
    "                                class_weight='balanced')\n",
    "clf_sparse.fit(X_train_scaled, y_train)"
   ]
  },
  {
   "cell_type": "code",
   "execution_count": 17,
   "metadata": {},
   "outputs": [],
   "source": [
    "## another option \n",
    "# lasso_clf = LogisticRegressionCV(Cs=10, \n",
    "#                                  fit_intercept=True, \n",
    "#                                  cv=5, \n",
    "#                                  penalty='l1', \n",
    "#                                  solver='saga',\n",
    "#                                  max_iter=1000, \n",
    "#                                  class_weight='balanced', \n",
    "#                                  n_jobs=-1, \n",
    "#                                  verbose=-1, \n",
    "#                                  refit=True, \n",
    "#                                  random_state=444)\n",
    "\n",
    "# lasso_clf.fit(X_train_scaled, y_train)\n",
    "# clf_sparse = lasso_clf.best_estimator_\n",
    "# print (lasso_clf.best_score_, lasso_clf.best_params_) "
   ]
  },
  {
   "cell_type": "code",
   "execution_count": 42,
   "metadata": {},
   "outputs": [
    {
     "name": "stdout",
     "output_type": "stream",
     "text": [
      "Feature Selection yielded 160 selected features and 169 not-selected features.\n",
      "Selected features are:\n",
      "\n",
      "collection_21_days, max_team_size, min_team_size, email, time_diff_x, time_diff_y, x0_AE, x0_AL, x0_AM, x0_AR, x0_AT, x0_AU, x0_BA, x0_BE, x0_BG, x0_BH, x0_BO, x0_BR, x0_CH, x0_CL, x0_CM, x0_CN, x0_CO, x0_CR, x0_CZ, x0_DE, x0_DK, x0_DO, x0_EC, x0_EG, x0_ES, x0_ET, x0_FI, x0_FJ, x0_FR, x0_GB, x0_GH, x0_GR, x0_GT, x0_HK, x0_HN, x0_HR, x0_HU, x0_ID, x0_IE, x0_IL, x0_IN, x0_IQ, x0_IS, x0_IT, x0_JM, x0_JO, x0_JP, x0_KR, x0_KW, x0_LK, x0_LT, x0_LU, x0_MISSING, x0_MK, x0_MQ, x0_MT, x0_MU, x0_MX, x0_MY, x0_NG, x0_NL, x0_NO, x0_NP, x0_NZ, x0_OM, x0_PA, x0_PE, x0_PH, x0_PK, x0_PL, x0_PR, x0_PS, x0_PT, x0_PY, x0_QA, x0_RO, x0_RS, x0_RU, x0_SA, x0_SE, x0_SG, x0_SN, x0_SV, x0_TD, x0_TH, x0_TN, x0_TR, x0_TW, x0_TZ, x0_UA, x0_US, x0_UY, x0_VE, x0_VI, x0_VN, x0_ZA, x0_ZM, x0_ZW, x1_tablet, x2_android, x2_chrome_os, x2_ios, x2_linux, x2_mac, x3_chrome, x3_firefox, x3_generic browser, x3_internet explorer, x3_microsoft edge, x3_opera, x3_safari, x3_ucbrowser, x4_Accounting, x4_Administrative, x4_Architecture, x4_BI, x4_Business Development, x4_Business Owner, x4_Construction, x4_Consulting, x4_Creative, x4_Customer Support, x4_Data, x4_Design, x4_Education, x4_Events, x4_Finance, x4_HR, x4_Healthcare, x4_IT, x4_Legal, x4_MISSING, x4_Manufacturing, x4_Marketing, x4_Operations, x4_Other, x4_Product Management, x4_Project Management, x4_Real Estate, x4_Real estate, x4_Research, x4_Sales, x4_Software Development, x4_Software Engineering, x4_Venture Capital, x5_AUD, x5_CAD, x5_EUR, x5_GBP, x5_INR, x5_MISSING, x6_1, x6_1-1, x6_101-500, x6_11-15, x6_16-25, x6_26-50, x6_500 , x6_51-100, x6_6-10, x6_MISSING, x6_Moi uniquement, paying\n"
     ]
    }
   ],
   "source": [
    "# Observe features\n",
    "nonzero_feats = np.nonzero(lasso_clf_best_model.coef_)\n",
    "feature_names = list(X_train.columns)\n",
    "selected = [f for i, f in enumerate(feature_names) if i in nonzero_feats[1]]\n",
    "not_selected = [f for i, f in enumerate(feature_names) if i not in nonzero_feats[1]]\n",
    "print('Feature Selection with Lasso yielded %d selected features and %d not-selected features.' % (len(not_selected), len(selected)))\n",
    "      \n",
    "print('Selected features are:\\n')\n",
    "print(', '.join(selected))"
   ]
  },
  {
   "cell_type": "code",
   "execution_count": 43,
   "metadata": {},
   "outputs": [
    {
     "name": "stdout",
     "output_type": "stream",
     "text": [
      "f1_score: 0.1510204081632653\n",
      "recall: 0.6491228070175439\n",
      "precision: 0.08545034642032333\n",
      "accuracy: 0.792\n"
     ]
    }
   ],
   "source": [
    "# Observe performance\n",
    "pred_sparse = clf_sparse.predict(X_test_scaled)\n",
    "calc_metrics(y_test, pred_sparse)"
   ]
  },
  {
   "cell_type": "code",
   "execution_count": 44,
   "metadata": {},
   "outputs": [
    {
     "name": "stdout",
     "output_type": "stream",
     "text": [
      "f1_score: 0.17167381974248927\n",
      "recall: 0.9090909090909091\n",
      "precision: 0.0947867298578199\n",
      "accuracy: 0.807\n"
     ]
    }
   ],
   "source": [
    "pred_sparse_train = clf_sparse.predict(X_train_scaled[:1000])\n",
    "calc_metrics(y_train[:1000], pred_sparse_train)"
   ]
  }
 ],
 "metadata": {
  "hide_input": false,
  "kernelspec": {
   "display_name": "Python 3",
   "language": "python",
   "name": "python3"
  },
  "language_info": {
   "codemirror_mode": {
    "name": "ipython",
    "version": 3
   },
   "file_extension": ".py",
   "mimetype": "text/x-python",
   "name": "python",
   "nbconvert_exporter": "python",
   "pygments_lexer": "ipython3",
   "version": "3.7.4"
  },
  "toc": {
   "base_numbering": 1,
   "nav_menu": {},
   "number_sections": true,
   "sideBar": true,
   "skip_h1_title": false,
   "title_cell": "Table of Contents",
   "title_sidebar": "Contents",
   "toc_cell": false,
   "toc_position": {},
   "toc_section_display": true,
   "toc_window_display": false
  }
 },
 "nbformat": 4,
 "nbformat_minor": 2
}
